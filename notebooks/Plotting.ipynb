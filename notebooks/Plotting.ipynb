{
 "cells": [
  {
   "cell_type": "code",
   "execution_count": 1,
   "metadata": {},
   "outputs": [],
   "source": [
    "from bokeh.models import ColumnDataSource, Legend\n",
    "from bokeh.plotting import figure, show\n",
    "from bokeh.models.ranges import FactorRange\n",
    "from bokeh.core.properties import value\n",
    "import holoviews as hv\n",
    "import intake\n",
    "import pandas as pd\n",
    "# hv.extension('bokeh')\n"
   ]
  },
  {
   "cell_type": "code",
   "execution_count": 2,
   "metadata": {},
   "outputs": [],
   "source": [
    "# %%writefile ../visualization/plotting.py\n",
    "\n",
    "def plotAtLocation(df, location):\n",
    "    baseCols = [\"Type\", \"Month\"]\n",
    "    locationDict = {\"Magnolia & Alice\": \"East Knoxville Recycling Center\", \n",
    "                    \"225 Moody\": \"South Knoxville Recycling Center\",\n",
    "                    \"4440 Western Av.\": \"North Knoxville Recycling Center\",\n",
    "                    \"341 Parkvillage\": \"West Knoxville Recycling Center\",\n",
    "                    \"227 Willow Av.\": \"Downtown Knoxville Recycling Center\",\n",
    "                    \"Curbside City-Wide\": \"Curbside City-Wide Pickup\",\n",
    "                    \"Downtown\": \"Downtown Pickup\",\n",
    "                    \"KPD\": \"KPD\", # what is this?\n",
    "                    \"Recycling Trailer\": \"Recycling Trailer\"}\n",
    "    cols = baseCols+[location]\n",
    "    locationDF = df[cols]\n",
    "    locationDF.fillna(0)\n",
    "    locationDF = locationDF.pivot(index='Month', columns='Type')\n",
    "    source = ColumnDataSource(locationDF)\n",
    "    colNames = source.column_names\n",
    "    if location in locationDict:\n",
    "        locationName = locationDict[location]\n",
    "    else:\n",
    "        locationName = location\n",
    "        print(location, \"not in dict\")\n",
    "\n",
    "    plot = figure(plot_width=800, plot_height=400, \n",
    "                  title=\"Weight of Waste: {}\".format(locationName), \n",
    "                  x_axis_type=\"datetime\")\n",
    "    legendItems = []\n",
    "    for i, colName in enumerate(colNames[1:]):\n",
    "        groupname, varname = colName.split(\"_\")\n",
    "        currentLine = plot.line(x='Month', y=colName, source=source, color=colors[i], line_width=2)\n",
    "        plot.xaxis.axis_label = \"Month\"\n",
    "        plot.yaxis.axis_label = unit\n",
    "        plot.legend.location = \"bottom_center\"\n",
    "        plot.legend.click_policy = \"mute\"\n",
    "        plot.legend.orientation = \"horizontal\"\n",
    "        if sum(locationDF[groupname][varname]) > 0:\n",
    "            legendItems.append((varname, [currentLine]))\n",
    "    legend = Legend(items=legendItems)\n",
    "    plot.add_layout(legend, 'right')\n",
    "    show(plot)\n",
    "\n",
    "def plotByVariable(variable):\n",
    "#     cols = baseCols+[variable]\n",
    "    locationDF = df[df[\"Type\"] == variable]\n",
    "    locationDF.fillna(0)\n",
    "    print(locationDF)\n",
    "    locationDF = locationDF.pivot(index='Month', columns=variable)\n",
    "    recyclingTypes = list(locationDF.columns)\n",
    "    source = ColumnDataSource(locationDF)\n",
    "    colNames = source.column_names\n",
    "\n",
    "    "
   ]
  },
  {
   "cell_type": "code",
   "execution_count": 3,
   "metadata": {},
   "outputs": [
    {
     "name": "stdout",
     "output_type": "stream",
     "text": [
      "Index(['Type', 'Mulch', 'Month'], dtype='object') ['Leaves' 'Brush']\n",
      "Mulch not in dict\n"
     ]
    },
    {
     "name": "stderr",
     "output_type": "stream",
     "text": [
      "/anaconda3/envs/hackathon/lib/python3.6/site-packages/bokeh/models/plots.py:725: UserWarning: \n",
      "You are attemptings to set `plot.legend.location` on a plot that has zero legends added, this will have no effect.\n",
      "\n",
      "Before legend properties can be set, you must add a Legend explicitly, or call a glyph method with the 'legend' parameter set.\n",
      "\n",
      "  warnings.warn(_LEGEND_EMPTY_WARNING % attr)\n",
      "/anaconda3/envs/hackathon/lib/python3.6/site-packages/bokeh/models/plots.py:725: UserWarning: \n",
      "You are attemptings to set `plot.legend.click_policy` on a plot that has zero legends added, this will have no effect.\n",
      "\n",
      "Before legend properties can be set, you must add a Legend explicitly, or call a glyph method with the 'legend' parameter set.\n",
      "\n",
      "  warnings.warn(_LEGEND_EMPTY_WARNING % attr)\n",
      "/anaconda3/envs/hackathon/lib/python3.6/site-packages/bokeh/models/plots.py:725: UserWarning: \n",
      "You are attemptings to set `plot.legend.orientation` on a plot that has zero legends added, this will have no effect.\n",
      "\n",
      "Before legend properties can be set, you must add a Legend explicitly, or call a glyph method with the 'legend' parameter set.\n",
      "\n",
      "  warnings.warn(_LEGEND_EMPTY_WARNING % attr)\n"
     ]
    },
    {
     "name": "stdout",
     "output_type": "stream",
     "text": [
      "Index(['Type', 'Totals', 'Percents', 'Month'], dtype='object') ['Commodity Recycled' 'SWMF Recycled' 'Mulch Recycled'\n",
      " 'C&D (class 3) Diverted' 'Garbage (class 1)']\n",
      "Totals not in dict\n",
      "Percents not in dict\n",
      "Index(['Type', 'Waste', 'C&D, Diverted', 'Month'], dtype='object') ['Transfer Station ' 'Household Trash' 'Misc Trash' 'Construction' 'Codes']\n",
      "Waste not in dict\n",
      "C&D, Diverted not in dict\n",
      "Index(['Type', 'Magnolia & Alice', '225 Moody', '4440 Western Av.',\n",
      "       '341 Parkvillage', '227 Willow Av.', 'Curbside City-Wide', 'Downtown',\n",
      "       'KPD', 'Recycling Trailer', 'Month'],\n",
      "      dtype='object') ['Aluminum' 'Plastics (\"Commingled\")' 'Glass' 'Mixed Paper' 'Cardboard'\n",
      " 'Steel/Tin' 'Newspaper' 'All Mixed (no glass)']\n",
      "Index(['Type', 'Non-Commodity Recycling', 'Diverted', 'Month'], dtype='object') ['TS Scrap Metal*' 'TS Tires' 'TS Carpet' 'HHW E-Waste'\n",
      " 'HHW Mixed Recycling' 'HHW Diverted']\n",
      "Non-Commodity Recycling not in dict\n",
      "Diverted not in dict\n"
     ]
    }
   ],
   "source": [
    "colors = [\"#e41a1c\", \"#377eb8\", \"#4daf4a\", \"#984ea3\", \"#ff7f00\", \"#ffff33\", \"#a65628\", \"#f781bf\", \"#999999\"]\n",
    "    \n",
    "catalog = intake.open_catalog('../catalog.yml')\n",
    "\n",
    "\n",
    "unitDict = []\n",
    "unit = \"lbs\"\n",
    "\n",
    "for table in catalog:\n",
    "    if table == \"landfill\" or table == \"recycling\":\n",
    "        continue\n",
    "    df = catalog[table].read()\n",
    "    print(df.columns, df[\"Type\"].unique())\n",
    "    for location in df.columns[1:-1]:\n",
    "        plotAtLocation(df, location)"
   ]
  },
  {
   "cell_type": "code",
   "execution_count": null,
   "metadata": {},
   "outputs": [],
   "source": []
  }
 ],
 "metadata": {
  "kernelspec": {
   "display_name": "Hackathon",
   "language": "python",
   "name": "hackathon"
  },
  "language_info": {
   "codemirror_mode": {
    "name": "ipython",
    "version": 3
   },
   "file_extension": ".py",
   "mimetype": "text/x-python",
   "name": "python",
   "nbconvert_exporter": "python",
   "pygments_lexer": "ipython3",
   "version": "3.6.7"
  }
 },
 "nbformat": 4,
 "nbformat_minor": 2
}
