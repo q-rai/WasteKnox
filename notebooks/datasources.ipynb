{
 "cells": [
  {
   "cell_type": "code",
   "execution_count": 1,
   "metadata": {},
   "outputs": [],
   "source": [
    "import intake"
   ]
  },
  {
   "cell_type": "code",
   "execution_count": 2,
   "metadata": {},
   "outputs": [],
   "source": [
    "catalog = intake.open_catalog('../catalog.yml')"
   ]
  },
  {
   "cell_type": "code",
   "execution_count": 3,
   "metadata": {},
   "outputs": [
    {
     "name": "stdout",
     "output_type": "stream",
     "text": [
      "Available Datasets\n",
      "   recycling                        Recycling Flat                  \n",
      "   landfill                         Landfill Flat                   \n",
      "   solid_waste_landfill             Solid Waste Landfilled          \n",
      "   solid_waste_commodity_recycling  Solid Waste Commodity Recycling \n",
      "   solid_waste_recycled_diverted    Solid Waste Commodity Recycling \n"
     ]
    }
   ],
   "source": [
    "print('Available Datasets')\n",
    "for name in catalog:\n",
    "    print(f'   {name:32} {catalog[name].description:32}')"
   ]
  },
  {
   "cell_type": "code",
   "execution_count": 4,
   "metadata": {},
   "outputs": [
    {
     "data": {
      "text/plain": [
       "{'datashape': None,\n",
       " 'dtype': {'Source': 'object',\n",
       "  'Waste': 'float64',\n",
       "  'C&D, Diverted': 'float64',\n",
       "  'Month': 'object'},\n",
       " 'shape': (None, 4),\n",
       " 'npartitions': 1,\n",
       " 'metadata': {'cache': [],\n",
       "  'catalog_dir': '/media/sf_p/WasteKnox/notebooks/../'}}"
      ]
     },
     "execution_count": 4,
     "metadata": {},
     "output_type": "execute_result"
    }
   ],
   "source": [
    "# dataset description\n",
    "catalog.solid_waste_landfill.discover()"
   ]
  },
  {
   "cell_type": "code",
   "execution_count": 5,
   "metadata": {},
   "outputs": [
    {
     "data": {
      "text/html": [
       "<div>\n",
       "<style scoped>\n",
       "    .dataframe tbody tr th:only-of-type {\n",
       "        vertical-align: middle;\n",
       "    }\n",
       "\n",
       "    .dataframe tbody tr th {\n",
       "        vertical-align: top;\n",
       "    }\n",
       "\n",
       "    .dataframe thead th {\n",
       "        text-align: right;\n",
       "    }\n",
       "</style>\n",
       "<table border=\"1\" class=\"dataframe\">\n",
       "  <thead>\n",
       "    <tr style=\"text-align: right;\">\n",
       "      <th></th>\n",
       "      <th>Source</th>\n",
       "      <th>Waste</th>\n",
       "      <th>C&amp;D, Diverted</th>\n",
       "      <th>Month</th>\n",
       "    </tr>\n",
       "  </thead>\n",
       "  <tbody>\n",
       "    <tr>\n",
       "      <th>0</th>\n",
       "      <td>Transfer Station</td>\n",
       "      <td>1321.99</td>\n",
       "      <td>1072.0</td>\n",
       "      <td>2018 JAN</td>\n",
       "    </tr>\n",
       "    <tr>\n",
       "      <th>1</th>\n",
       "      <td>Household Trash</td>\n",
       "      <td>3530.99</td>\n",
       "      <td>NaN</td>\n",
       "      <td>2018 JAN</td>\n",
       "    </tr>\n",
       "    <tr>\n",
       "      <th>2</th>\n",
       "      <td>Misc Trash</td>\n",
       "      <td>1.67</td>\n",
       "      <td>NaN</td>\n",
       "      <td>2018 JAN</td>\n",
       "    </tr>\n",
       "    <tr>\n",
       "      <th>3</th>\n",
       "      <td>Construction</td>\n",
       "      <td>NaN</td>\n",
       "      <td>317.0</td>\n",
       "      <td>2018 JAN</td>\n",
       "    </tr>\n",
       "    <tr>\n",
       "      <th>4</th>\n",
       "      <td>Codes</td>\n",
       "      <td>NaN</td>\n",
       "      <td>157.0</td>\n",
       "      <td>2018 JAN</td>\n",
       "    </tr>\n",
       "  </tbody>\n",
       "</table>\n",
       "</div>"
      ],
      "text/plain": [
       "              Source    Waste  C&D, Diverted     Month\n",
       "0  Transfer Station   1321.99         1072.0  2018 JAN\n",
       "1    Household Trash  3530.99            NaN  2018 JAN\n",
       "2         Misc Trash     1.67            NaN  2018 JAN\n",
       "3       Construction      NaN          317.0  2018 JAN\n",
       "4              Codes      NaN          157.0  2018 JAN"
      ]
     },
     "execution_count": 5,
     "metadata": {},
     "output_type": "execute_result"
    }
   ],
   "source": [
    "df = catalog.solid_waste_landfill.read()\n",
    "df.head(5)"
   ]
  },
  {
   "cell_type": "code",
   "execution_count": null,
   "metadata": {},
   "outputs": [],
   "source": []
  }
 ],
 "metadata": {
  "kernelspec": {
   "display_name": "Python 3",
   "language": "python",
   "name": "python3"
  },
  "language_info": {
   "codemirror_mode": {
    "name": "ipython",
    "version": 3
   },
   "file_extension": ".py",
   "mimetype": "text/x-python",
   "name": "python",
   "nbconvert_exporter": "python",
   "pygments_lexer": "ipython3",
   "version": "3.6.6"
  }
 },
 "nbformat": 4,
 "nbformat_minor": 2
}
