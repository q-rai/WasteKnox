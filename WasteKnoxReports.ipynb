{
 "cells": [
  {
   "cell_type": "code",
   "execution_count": 58,
   "metadata": {},
   "outputs": [
    {
     "name": "stdout",
     "output_type": "stream",
     "text": [
      "['2018 JAN', '2018 FEB', '2018 MAR', '2018 APRIL', '2018 MAY', '2018 JUNE', '2018 JULY', '2018 AUG', '2018 SEPT', '2018 OCT', '2018 NOV', '2018 DEC', '2018 ANNUAL TOTAL', '2018 FIRST HALF', '2018 SECOND HALF'] 15\n",
      "Index([                     nan,       'Magnolia & Alice',\n",
      "                    '225 Moody',       '4440 Western Av.',\n",
      "              '341 Parkvillage',         '227 Willow Av.',\n",
      "       'DROP OFF CENTER TOTALS',     'Curbside City-Wide',\n",
      "                     'Downtown',                    'KPD',\n",
      "            'Recycling Trailer',                  'Month'],\n",
      "      dtype='object')\n"
     ]
    },
    {
     "ename": "NameError",
     "evalue": "name 'landFilledAllDF' is not defined",
     "output_type": "error",
     "traceback": [
      "\u001b[0;31m---------------------------------------------------------------------------\u001b[0m",
      "\u001b[0;31mNameError\u001b[0m                                 Traceback (most recent call last)",
      "\u001b[0;32m<ipython-input-58-7af64b3e089b>\u001b[0m in \u001b[0;36m<module>\u001b[0;34m\u001b[0m\n\u001b[1;32m     44\u001b[0m \u001b[0;34m\u001b[0m\u001b[0m\n\u001b[1;32m     45\u001b[0m \u001b[0;34m\u001b[0m\u001b[0m\n\u001b[0;32m---> 46\u001b[0;31m \u001b[0mprocessSummaryExcel\u001b[0m\u001b[0;34m(\u001b[0m\u001b[0;34m\"data/solid_waste_reports.xlsx\"\u001b[0m\u001b[0;34m)\u001b[0m\u001b[0;34m\u001b[0m\u001b[0;34m\u001b[0m\u001b[0m\n\u001b[0m",
      "\u001b[0;32m<ipython-input-58-7af64b3e089b>\u001b[0m in \u001b[0;36mprocessSummaryExcel\u001b[0;34m(path)\u001b[0m\n\u001b[1;32m     38\u001b[0m \u001b[0;34m\u001b[0m\u001b[0m\n\u001b[1;32m     39\u001b[0m     \u001b[0mprint\u001b[0m\u001b[0;34m(\u001b[0m\u001b[0mcommodityRecyclingAllDF\u001b[0m\u001b[0;34m.\u001b[0m\u001b[0mcolumns\u001b[0m\u001b[0;34m)\u001b[0m\u001b[0;34m\u001b[0m\u001b[0;34m\u001b[0m\u001b[0m\n\u001b[0;32m---> 40\u001b[0;31m     \u001b[0mprint\u001b[0m\u001b[0;34m(\u001b[0m\u001b[0mlandFilledAllDF\u001b[0m\u001b[0;34m.\u001b[0m\u001b[0mcolumns\u001b[0m\u001b[0;34m)\u001b[0m\u001b[0;34m\u001b[0m\u001b[0;34m\u001b[0m\u001b[0m\n\u001b[0m\u001b[1;32m     41\u001b[0m \u001b[0;34m\u001b[0m\u001b[0m\n\u001b[1;32m     42\u001b[0m \u001b[0;34m\u001b[0m\u001b[0m\n",
      "\u001b[0;31mNameError\u001b[0m: name 'landFilledAllDF' is not defined"
     ]
    }
   ],
   "source": [
    "import pandas as pd\n",
    "\n",
    "def fixTable(allDF, singleDF, month):\n",
    "    # make actual table headers the df header, remove original row with that info \n",
    "    singleDF.rename(columns=singleDF.iloc[0], inplace=True)\n",
    "    singleDF.drop([0], axis=0, inplace=True)\n",
    "    singleDF[\"Month\"] = month\n",
    "    if allDF.empty:\n",
    "        allDF = singleDF\n",
    "    else:\n",
    "        allDF = pd.concat([allDF, singleDF], axis=\"rows\")\n",
    "    return allDF\n",
    "\n",
    "def processSummaryExcel(path):\n",
    "    xl = pd.ExcelFile(path)\n",
    "    sheetNames = xl.sheet_names  # see all sheet names\n",
    "    print(sheetNames, len(sheetNames))\n",
    "    commodityRecyclingAllDF = pd.DataFrame({'' : []})\n",
    "    landfilledAllDF = pd.DataFrame({'' : []})\n",
    "    swmfRecycledDivertedAllDF = pd.DataFrame({'' : []})\n",
    "    for name in sheetNames[0:12]:\n",
    "        # read a specific sheet to DataFrame\n",
    "        # usecols=None, \n",
    "        # skiprows=None\n",
    "        # nrows=None\n",
    "        commodityRecyclingDF = xl.parse(name, skiprows=range(3), nrows=9, usecols=range(11))\n",
    "        # make actual table headers the df header, remove original row with that info\n",
    "        commodityRecyclingAllDF = fixTable(commodityRecyclingAllDF, commodityRecyclingDF, name)\n",
    "        \n",
    "        landfilledDF = xl.parse(name, skiprows=range(17), nrows=6, usecols=range(3))\n",
    "        # make actual table headers the df header, remove original row with that info\n",
    "        landfilledAllDF = fixTable(landfilledAllDF, landfilledDF, name)\n",
    "        \n",
    "        swmfRecycledDivertedDF = xl.parse(name, skiprows=range(18), nrows=6, usecols=range(3))\n",
    "#         print(swmfRecycledDivertedDF)\n",
    "        \n",
    "    commodityRecyclingAllDF.to_csv(\"data/\")\n",
    "        \n",
    "    print(commodityRecyclingAllDF.columns)\n",
    "    print(landFilledAllDF.columns)\n",
    "        \n",
    "        \n",
    "        \n",
    "        \n",
    "        \n",
    "processSummaryExcel(\"data/solid_waste_reports.xlsx\")"
   ]
  },
  {
   "cell_type": "code",
   "execution_count": null,
   "metadata": {},
   "outputs": [],
   "source": []
  }
 ],
 "metadata": {
  "kernelspec": {
   "display_name": "Hackathon",
   "language": "python",
   "name": "hackathon"
  },
  "language_info": {
   "codemirror_mode": {
    "name": "ipython",
    "version": 3
   },
   "file_extension": ".py",
   "mimetype": "text/x-python",
   "name": "python",
   "nbconvert_exporter": "python",
   "pygments_lexer": "ipython3",
   "version": "3.6.7"
  }
 },
 "nbformat": 4,
 "nbformat_minor": 2
}
