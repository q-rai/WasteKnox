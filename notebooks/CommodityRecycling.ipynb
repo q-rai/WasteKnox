{
 "cells": [
  {
   "cell_type": "code",
   "execution_count": 1,
   "metadata": {},
   "outputs": [
    {
     "name": "stdout",
     "output_type": "stream",
     "text": [
      "types ['Aluminum' 'Plastics (\"Commingled\")' 'Glass' 'Mixed Paper' 'Cardboard'\n",
      " 'Steel/Tin' 'Newspaper' 'All Mixed (no glass)']\n",
      "columns Index(['Type', 'Magnolia & Alice', '225 Moody', '4440 Western Av.',\n",
      "       '341 Parkvillage', '227 Willow Av.', 'Curbside City-Wide', 'Downtown',\n",
      "       'KPD', 'Recycling Trailer', 'Month'],\n",
      "      dtype='object')\n"
     ]
    }
   ],
   "source": [
    "from bokeh.models import ColumnDataSource\n",
    "from bokeh.plotting import figure, show\n",
    "from bokeh.models.ranges import FactorRange\n",
    "from bokeh.core.properties import value\n",
    "import holoviews as hv\n",
    "import intake\n",
    "import pandas as pd\n",
    "# hv.extension('bokeh')\n",
    "\n",
    "catalog = intake.open_catalog('../catalog.yml')\n",
    "    \n",
    "df = catalog.solid_waste_commodity_recycling.read()\n",
    "recycleTypes = df[\"Type\"].unique()\n",
    "print(\"types\", recycleTypes)\n",
    "print(\"columns\", df.columns)"
   ]
  },
  {
   "cell_type": "code",
   "execution_count": 3,
   "metadata": {},
   "outputs": [
    {
     "name": "stderr",
     "output_type": "stream",
     "text": [
      "/anaconda3/envs/hackathon/lib/python3.6/site-packages/ipykernel_launcher.py:13: SettingWithCopyWarning: \n",
      "A value is trying to be set on a copy of a slice from a DataFrame\n",
      "\n",
      "See the caveats in the documentation: http://pandas.pydata.org/pandas-docs/stable/indexing.html#indexing-view-versus-copy\n",
      "  del sys.path[0]\n"
     ]
    }
   ],
   "source": [
    "colors = [\"#e41a1c\", \"#377eb8\", \"#4daf4a\", \"#984ea3\", \"#ff7f00\", \"#ffff33\", \"#a65628\", \"#f781bf\", \"#999999\"]\n",
    "\n",
    "baseCols = [\"Type\", \"Month\"]\n",
    "# locationDF = df[cols]\n",
    "# locationDF.dropna(axis=\"rows\", inplace=True)\n",
    "# locationDF = locationDF.pivot(index='Month', columns='Type')\n",
    "# source = ColumnDataSource(locationDF)\n",
    "# colNames = source.column_names\n",
    "\n",
    "for location in df.columns[1:-1]:\n",
    "    cols = baseCols+[location]\n",
    "    locationDF = df[cols]\n",
    "    locationDF.dropna(axis=\"rows\", inplace=True)\n",
    "    locationDF = locationDF.pivot(index='Month', columns='Type')\n",
    "    recyclingTypes = list(locationDF.columns)\n",
    "    source = ColumnDataSource(locationDF)\n",
    "    colNames = source.column_names\n",
    "\n",
    "    plot = figure(plot_width=600, plot_height=400, title=\"Recycling by Type at {} Recycling Center\".format(location), x_axis_type=\"datetime\")\n",
    "\n",
    "    for i, colName in enumerate(colNames[1:]):\n",
    "        name = colName.split(\"_\")[1]\n",
    "        plot.line(x='Month', y=colName, source=source, legend=name, color=colors[i], line_width=2)\n",
    "        plot.xaxis.axis_label = \"Month\"\n",
    "        plot.yaxis.axis_label = \"Lbs\"\n",
    "        \n",
    "    show(plot)\n",
    "\n"
   ]
  },
  {
   "cell_type": "code",
   "execution_count": null,
   "metadata": {},
   "outputs": [],
   "source": []
  },
  {
   "cell_type": "code",
   "execution_count": null,
   "metadata": {},
   "outputs": [],
   "source": []
  }
 ],
 "metadata": {
  "kernelspec": {
   "display_name": "Hackathon",
   "language": "python",
   "name": "hackathon"
  },
  "language_info": {
   "codemirror_mode": {
    "name": "ipython",
    "version": 3
   },
   "file_extension": ".py",
   "mimetype": "text/x-python",
   "name": "python",
   "nbconvert_exporter": "python",
   "pygments_lexer": "ipython3",
   "version": "3.6.7"
  }
 },
 "nbformat": 4,
 "nbformat_minor": 2
}
