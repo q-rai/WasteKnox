{
 "cells": [
  {
   "cell_type": "code",
   "execution_count": 1,
   "metadata": {},
   "outputs": [
    {
     "name": "stdout",
     "output_type": "stream",
     "text": [
      "['2018 JAN', '2018 FEB', '2018 MAR', '2018 APRIL', '2018 MAY', '2018 JUNE', '2018 JULY', '2018 AUG', '2018 SEPT', '2018 OCT', '2018 NOV', '2018 DEC', '2018 ANNUAL TOTAL', '2018 FIRST HALF', '2018 SECOND HALF'] 15\n"
     ]
    }
   ],
   "source": [
    "import pandas as pd\n",
    "\n",
    "def fixTable(allDF, singleDF, month):\n",
    "    \"\"\"Takes a dataframe for a single month, fixes the headers, \n",
    "       and adds a column for the current month.\n",
    "       Then concatenates it to the full table for the year.\"\"\"\n",
    "    # make actual table headers the df header, remove original row with that info \n",
    "    singleDF.rename(columns=singleDF.iloc[0], inplace=True)\n",
    "    singleDF.rename(columns={singleDF.columns[0]: \"Type\"}, inplace=True)\n",
    "    singleDF.drop([0], axis=0, inplace=True)\n",
    "    singleDF[\"Month\"] = month\n",
    "    if allDF.empty:\n",
    "        allDF = singleDF\n",
    "    else:\n",
    "        allDF = pd.concat([allDF, singleDF], axis=\"rows\")\n",
    "    return allDF\n",
    "\n",
    "def processSolidWasteReport(path):\n",
    "    \"\"\"Loads in a Solid Waste Report from a given path, processes each table for each months,\n",
    "       and makes a csv file per table containing the data for each month.\"\"\"\n",
    "    xl = pd.ExcelFile(path)\n",
    "    # see all sheet names\n",
    "    sheetNames = xl.sheet_names\n",
    "    print(sheetNames, len(sheetNames))\n",
    "    # initialize dataframes for the full date range\n",
    "    commodityRecyclingAllDF = pd.DataFrame({'' : []})\n",
    "    landfilledAllDF = pd.DataFrame({'' : []})\n",
    "    swmfRecycledDivertedAllDF = pd.DataFrame({'' : []})\n",
    "    mulchAllDF = pd.DataFrame({'' : []})\n",
    "    totalWasteStreamAllDF = pd.DataFrame({'' : []})\n",
    "    # iterate over sheets\n",
    "    for month in sheetNames[0:12]:\n",
    "        # read a portion of a specific sheet to DataFrame\n",
    "        # month: name of sheet (formatted MONTH YYYY)\n",
    "        # usecols: specify list of columns to used\n",
    "        # skiprows: specify list of rows to skip\n",
    "        # nrows: specify number of rows to read\n",
    "        commodityRecyclingDF = xl.parse(month, skiprows=range(3), nrows=9, usecols=range(11))\n",
    "        commodityRecyclingAllDF = fixTable(commodityRecyclingAllDF, commodityRecyclingDF, month)\n",
    "        \n",
    "        landfilledDF = xl.parse(month, skiprows=range(17), nrows=6, usecols=range(3))\n",
    "        landfilledAllDF = fixTable(landfilledAllDF, landfilledDF, month)\n",
    "        \n",
    "        swmfRecycledDivertedDF = xl.parse(month, skiprows=range(16), nrows=7, usecols=range(5,8))\n",
    "        swmfRecycledDivertedAllDF = fixTable(swmfRecycledDivertedAllDF, swmfRecycledDivertedDF, month)\n",
    "        \n",
    "        mulchDF = xl.parse(month, skiprows=range(15), nrows=3, usecols=range(10,12))\n",
    "        mulchAllDF = fixTable(mulchAllDF, mulchDF, month)\n",
    "        \n",
    "        totalWasteStreamDF = xl.parse(month, skiprows=range(28), nrows=6, usecols=range(3))\n",
    "        totalWasteStreamAllDF = fixTable(totalWasteStreamAllDF, totalWasteStreamDF, month)\n",
    "    \n",
    "    commodityRecyclingAllDF.drop(columns=[\"DROP OFF CENTER TOTALS\"], inplace=True)\n",
    "    commodityRecyclingAllDF.to_csv(\"../data/processed/CommodityRecycling.csv\", index=False)\n",
    "    landfilledAllDF.to_csv(\"../data/processed/Landfilled.csv\", index=False)\n",
    "    swmfRecycledDivertedAllDF.to_csv(\"../data/processed/RecycledDiverted.csv\", index=False)\n",
    "    mulchAllDF.rename(columns={mulchAllDF.columns[1]: \"Mulch\"}, inplace=True)\n",
    "    mulchAllDF.to_csv(\"../data/processed/Mulch.csv\", index=False)\n",
    "    totalWasteStreamAllDF.to_csv(\"../data/processed/TotalWasteStream.csv\", index=False)\n",
    "     \n",
    "processSolidWasteReport(\"../data/solid_waste_reports_2018.xlsx\")"
   ]
  },
  {
   "cell_type": "code",
   "execution_count": null,
   "metadata": {},
   "outputs": [],
   "source": []
  }
 ],
 "metadata": {
  "kernelspec": {
   "display_name": "Hackathon",
   "language": "python",
   "name": "hackathon"
  },
  "language_info": {
   "codemirror_mode": {
    "name": "ipython",
    "version": 3
   },
   "file_extension": ".py",
   "mimetype": "text/x-python",
   "name": "python",
   "nbconvert_exporter": "python",
   "pygments_lexer": "ipython3",
   "version": "3.6.7"
  }
 },
 "nbformat": 4,
 "nbformat_minor": 2
}
